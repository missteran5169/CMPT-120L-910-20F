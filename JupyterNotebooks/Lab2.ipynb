{
 "metadata": {
  "language_info": {
   "codemirror_mode": {
    "name": "ipython",
    "version": 3
   },
   "file_extension": ".py",
   "mimetype": "text/x-python",
   "name": "python",
   "nbconvert_exporter": "python",
   "pygments_lexer": "ipython3",
   "version": "3.8.5-final"
  },
  "orig_nbformat": 2,
  "kernelspec": {
   "name": "python_defaultSpec_1599927352571",
   "display_name": "Python 3.8.5 32-bit"
  }
 },
 "nbformat": 4,
 "nbformat_minor": 2,
 "cells": [
  {
   "cell_type": "code",
   "execution_count": 108,
   "metadata": {
    "tags": []
   },
   "outputs": [
    {
     "output_type": "stream",
     "name": "stdout",
     "text": "b is greater than a\n"
    }
   ],
   "source": [
    "#Create an if statement\n",
    "a = 50\n",
    "b= 300\n",
    "if b > a:\n",
    "    print(\"b is greater than a\")"
   ]
  },
  {
   "cell_type": "code",
   "execution_count": 109,
   "metadata": {
    "tags": []
   },
   "outputs": [
    {
     "output_type": "stream",
     "name": "stdout",
     "text": "a is greater than b\n"
    }
   ],
   "source": [
    "# Create an if else statement\n",
    "a = 300\n",
    "b= 50\n",
    "if b > a:\n",
    "    print(\"b is greater than a\")\n",
    "else:\n",
    "    print(\"a is greater than b\")"
   ]
  },
  {
   "cell_type": "code",
   "execution_count": 110,
   "metadata": {
    "tags": []
   },
   "outputs": [
    {
     "output_type": "stream",
     "name": "stdout",
     "text": "a and b are equal\n"
    }
   ],
   "source": [
    "# Create an if elif else statement\n",
    "a = 50\n",
    "b = 50\n",
    "if b > a:\n",
    "    print(\"b is greater than a\")\n",
    "elif a==b:\n",
    "    print(\"a and b are equal\")"
   ]
  },
  {
   "cell_type": "code",
   "execution_count": 111,
   "metadata": {
    "tags": []
   },
   "outputs": [
    {
     "output_type": "stream",
     "name": "stdout",
     "text": "0\n1\n2\n3\n4\n5\n6\n7\n8\n9\n"
    }
   ],
   "source": [
    "# Create a for loop using range(). Go from 0 to 9. Print out each number\n",
    "for m in range(0,10):\n",
    "    print(m)"
   ]
  },
  {
   "cell_type": "code",
   "execution_count": 112,
   "metadata": {
    "tags": []
   },
   "outputs": [
    {
     "output_type": "stream",
     "name": "stdout",
     "text": "Blue\nYellow\nRed\nGreen\nPurple\nMagenta\nLilac\n"
    }
   ],
   "source": [
    "# Create a for loop iterating through this list and print out the value\n",
    "arr = ['Blue', 'Yellow', 'Red','Green','Purple','Magenta','Lilac']\n",
    "for color in arr:\n",
    "    print(color)"
   ]
  },
  {
   "cell_type": "code",
   "execution_count": 113,
   "metadata": {
    "tags": []
   },
   "outputs": [
    {
     "output_type": "stream",
     "name": "stdout",
     "text": "1\n2\n3\n4\n5\n6\n"
    }
   ],
   "source": [
    "# Create a while loop that end after 6 time through. Print something for each pass. \n",
    "giraffes = 1\n",
    "while giraffes < 7:\n",
    "    print(giraffes)\n",
    "    giraffes += 1"
   ]
  },
  {
   "cell_type": "code",
   "execution_count": 114,
   "metadata": {
    "tags": []
   },
   "outputs": [
    {
     "output_type": "stream",
     "name": "stdout",
     "text": "112\n"
    }
   ],
   "source": [
    "# Create a function to add 2 numbers together. Print out the number.\n",
    "a = 50\n",
    "b= 62\n",
    "print(a+b)"
   ]
  },
  {
   "cell_type": "code",
   "execution_count": 115,
   "metadata": {
    "tags": []
   },
   "outputs": [
    {
     "output_type": "stream",
     "name": "stdout",
     "text": "29 is an odd number\n"
    }
   ],
   "source": [
    "# Create a function that tells you if a number is odd or even and print the result\n",
    "number = int(input(\"29\"))\n",
    "remainder = number % 2\n",
    "if (remainder==0):\n",
    "    print(number, \"is an even number\")\n",
    "else:\n",
    "    print(number, \"is an odd number\")"
   ]
  }
 ]
}