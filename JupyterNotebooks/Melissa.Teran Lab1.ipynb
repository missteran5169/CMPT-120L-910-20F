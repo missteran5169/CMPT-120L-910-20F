{
 "cells": [
  {
   "cell_type": "markdown",
   "metadata": {},
   "source": [
    "# Lab 1 Assignment"
   ]
  },
  {
   "cell_type": "code",
   "execution_count": 27,
   "metadata": {},
   "outputs": [
    {
     "name": "stdout",
     "output_type": "stream",
     "text": [
      "Hello Melissa\n"
     ]
    }
   ],
   "source": [
    "# This is a string\n",
    "\n",
    "Name = \"Hello Melissa\"\n",
    "print (Name)"
   ]
  },
  {
   "cell_type": "code",
   "execution_count": 28,
   "metadata": {},
   "outputs": [
    {
     "name": "stdout",
     "output_type": "stream",
     "text": [
      "30\n"
     ]
    }
   ],
   "source": [
    "# This is an integer\n",
    "\n",
    "Age = 30\n",
    "print (Age)"
   ]
  },
  {
   "cell_type": "code",
   "execution_count": 29,
   "metadata": {},
   "outputs": [
    {
     "name": "stdout",
     "output_type": "stream",
     "text": [
      "6.75\n"
     ]
    }
   ],
   "source": [
    "# This is a float\n",
    "Hours_Working = 6.75\n",
    "print(Hours_Working)"
   ]
  },
  {
   "cell_type": "code",
   "execution_count": 30,
   "metadata": {},
   "outputs": [
    {
     "name": "stdout",
     "output_type": "stream",
     "text": [
      "False\n"
     ]
    }
   ],
   "source": [
    "# This is boolean\n",
    "Under30 = False\n",
    "print(Under30)"
   ]
  },
  {
   "cell_type": "code",
   "execution_count": 15,
   "metadata": {},
   "outputs": [
    {
     "name": "stdout",
     "output_type": "stream",
     "text": [
      "8\n"
     ]
    }
   ],
   "source": [
    "# Demonstrating Addition\n",
    "Bicycles = 3 + 5\n",
    "print(Bicycles)"
   ]
  },
  {
   "cell_type": "code",
   "execution_count": 16,
   "metadata": {},
   "outputs": [
    {
     "name": "stdout",
     "output_type": "stream",
     "text": [
      "16\n"
     ]
    }
   ],
   "source": [
    "# Demonstrating Multiplication\n",
    "Hiking = 8 * 2\n",
    "print (Hiking)"
   ]
  },
  {
   "cell_type": "code",
   "execution_count": 17,
   "metadata": {},
   "outputs": [
    {
     "name": "stdout",
     "output_type": "stream",
     "text": [
      "22\n"
     ]
    }
   ],
   "source": [
    "# Demonstrating Subtraction\n",
    "Trails = 102 - 80\n",
    "print (Trails)"
   ]
  },
  {
   "cell_type": "code",
   "execution_count": 18,
   "metadata": {},
   "outputs": [
    {
     "name": "stdout",
     "output_type": "stream",
     "text": [
      "7.0\n"
     ]
    }
   ],
   "source": [
    "# Demonstrating Division\n",
    "Karaoke = 49 / 7\n",
    "print (Karaoke)"
   ]
  },
  {
   "cell_type": "code",
   "execution_count": 25,
   "metadata": {},
   "outputs": [
    {
     "name": "stdout",
     "output_type": "stream",
     "text": [
      "2\n"
     ]
    }
   ],
   "source": [
    "# Demonstrating Modulo\n",
    "Apples = 20 % 3\n",
    "print (Apples)"
   ]
  },
  {
   "cell_type": "code",
   "execution_count": 26,
   "metadata": {},
   "outputs": [
    {
     "name": "stdout",
     "output_type": "stream",
     "text": [
      "57\n"
     ]
    }
   ],
   "source": [
    "# Using 2 variables and addition print the number 57\n",
    "Carrots = 27\n",
    "Beets = 30\n",
    "print(Beets + Carrots)"
   ]
  },
  {
   "cell_type": "code",
   "execution_count": 46,
   "metadata": {},
   "outputs": [
    {
     "name": "stdout",
     "output_type": "stream",
     "text": [
      "37\n",
      "10\n",
      "299.99\n",
      "True\n"
     ]
    }
   ],
   "source": [
    "# Change this variable to a string and print\n",
    "number_into_string = 37\n",
    "st = str(number_into_string)\n",
    "print (st)\n",
    "# Change this variable to an integer and print\n",
    "string_into_number = '10'\n",
    "intgr = int(string_into_number)\n",
    "print (intgr)\n",
    "# Change this variable to a float and print\n",
    "string_into_float = '299.99'\n",
    "flt = float(string_into_float)\n",
    "print(flt)\n",
    "#Change this variable to a boolean and print\n",
    "number_into_boolean = 37\n",
    "boo = bool(number_into_boolean)\n",
    "print (boo)"
   ]
  },
  {
   "cell_type": "code",
   "execution_count": 51,
   "metadata": {},
   "outputs": [
    {
     "name": "stdout",
     "output_type": "stream",
     "text": [
      "Buy groceries\n",
      "Pay electric bill\n",
      "Laundry\n",
      "Meal Prep\n"
     ]
    }
   ],
   "source": [
    "# Make me a list of any type\n",
    "To_Do_List = [\"Buy groceries\",\"Pay electric bill\",\"Laundry\",\"Meal Prep\"]\n",
    "for item in To_Do_List:\n",
    "    print(item)"
   ]
  },
  {
   "cell_type": "code",
   "execution_count": null,
   "metadata": {},
   "outputs": [],
   "source": []
  }
 ],
 "metadata": {
  "kernelspec": {
   "display_name": "Python 3",
   "language": "python",
   "name": "python3"
  },
  "language_info": {
   "codemirror_mode": {
    "name": "ipython",
    "version": 3
   },
   "file_extension": ".py",
   "mimetype": "text/x-python",
   "name": "python",
   "nbconvert_exporter": "python",
   "pygments_lexer": "ipython3",
   "version": "3.8.5"
  }
 },
 "nbformat": 4,
 "nbformat_minor": 4
}
