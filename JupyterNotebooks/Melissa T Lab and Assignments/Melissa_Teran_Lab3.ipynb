{
 "metadata": {
  "language_info": {
   "codemirror_mode": {
    "name": "ipython",
    "version": 3
   },
   "file_extension": ".py",
   "mimetype": "text/x-python",
   "name": "python",
   "nbconvert_exporter": "python",
   "pygments_lexer": "ipython3",
   "version": "3.8.5-final"
  },
  "orig_nbformat": 2,
  "kernelspec": {
   "name": "python_defaultSpec_1600819139120",
   "display_name": "Python 3.8.5 32-bit"
  }
 },
 "nbformat": 4,
 "nbformat_minor": 2,
 "cells": [
  {
   "cell_type": "code",
   "execution_count": 2,
   "metadata": {
    "tags": []
   },
   "outputs": [
    {
     "output_type": "stream",
     "name": "stdout",
     "text": "My Bicycle Is not green\n"
    }
   ],
   "source": [
    "#Built in function to swap case on a string\n",
    "text = \"mY bICYCLE iS NOT GREEN\"\n",
    "intro = text.swapcase()\n",
    "print(intro)\n",
    "\n"
   ]
  },
  {
   "cell_type": "code",
   "execution_count": 12,
   "metadata": {
    "tags": []
   },
   "outputs": [
    {
     "output_type": "stream",
     "name": "stdout",
     "text": "----Candles----\n"
    }
   ],
   "source": [
    "#Built in function to Center a string and pad the sides with 4 dashes a side\n",
    "txt = \"Candles\"\n",
    "x = txt.center(15,\"-\")\n",
    "print(x)"
   ]
  },
  {
   "cell_type": "code",
   "execution_count": 7,
   "metadata": {
    "tags": []
   },
   "outputs": [
    {
     "output_type": "stream",
     "name": "stdout",
     "text": "('abcdef', 'g', 'jklmnop')\n"
    }
   ],
   "source": [
    "#built in function to Partition a string\n",
    "string = \"abcdefgjklmnop\"\n",
    "x = string.partition(\"g\")\n",
    "print(x)"
   ]
  },
  {
   "cell_type": "code",
   "execution_count": 24,
   "metadata": {
    "tags": []
   },
   "outputs": [
    {
     "output_type": "stream",
     "name": "stdout",
     "text": "81\n"
    }
   ],
   "source": [
    "#a function that will take in a number and raise it to the power given\n",
    "x = (3**4)\n",
    "print(x)"
   ]
  },
  {
   "cell_type": "code",
   "execution_count": 14,
   "metadata": {
    "tags": []
   },
   "outputs": [
    {
     "output_type": "stream",
     "name": "stdout",
     "text": "There are 3 times that the number 2 appears in [1, 2, 3, 4, 5, 9, 0, 1, 3, 2, 7, 2, 8]\n"
    }
   ],
   "source": [
    "#function that will find occurance of any element appearing x times\n",
    "\n",
    "input = [1, 2, 3, 4, 5, 9, 0, 1, 3, 2, 7, 2, 8]\n",
    "x = 2\n",
    "print(\"There are {} times that the number {} appears in {}\".format(input.count(x), x, input))"
   ]
  },
  {
   "cell_type": "code",
   "execution_count": 73,
   "metadata": {},
   "outputs": [
    {
     "output_type": "execute_result",
     "data": {
      "text/plain": "1.75"
     },
     "metadata": {},
     "execution_count": 73
    }
   ],
   "source": [
    "#slope function\n",
    "def division (x,y):\n",
    "    return (x/y)\n",
    "def slope(x1,y1,x2,y2):\n",
    "    del_x= x2-x1\n",
    "    del_y= y2-y1\n",
    "    Dx= division(del_y,del_x)\n",
    "    return(Dx)\n",
    "slope(10,30,50,100)"
   ]
  },
  {
   "cell_type": "code",
   "execution_count": 71,
   "metadata": {},
   "outputs": [
    {
     "output_type": "execute_result",
     "data": {
      "text/plain": "5.656854249492381"
     },
     "metadata": {},
     "execution_count": 71
    }
   ],
   "source": [
    "#distance function\n",
    "#Distance = sqrt((x1-x2)^2+(y1-y2)^2)\n",
    "def Distance(x1,y1,x2,y2):\n",
    "    dist = ((x1-x2)**2 + (y1-y2)**2)**.5\n",
    "    return(dist)\n",
    "Distance(4,6,8,10)"
   ]
  },
  {
   "cell_type": "code",
   "execution_count": null,
   "metadata": {},
   "outputs": [],
   "source": []
  }
 ]
}